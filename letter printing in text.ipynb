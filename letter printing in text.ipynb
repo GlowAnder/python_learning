{
 "cells": [
  {
   "cell_type": "code",
   "execution_count": 6,
   "id": "ad4e6a4a-b8ad-45e9-acd5-770e66b1d9e8",
   "metadata": {},
   "outputs": [
    {
     "name": "stdin",
     "output_type": "stream",
     "text": [
      "type a short story: The most important character to look for in a good friend is authenticity according to my opinion.\n"
     ]
    },
    {
     "name": "stdout",
     "output_type": "stream",
     "text": [
      "e\n",
      "o\n",
      "i\n",
      "o\n",
      "a\n",
      "a\n",
      "a\n",
      "e\n",
      "o\n",
      "o\n",
      "o\n",
      "o\n",
      "i\n",
      "a\n",
      "o\n",
      "o\n",
      "i\n",
      "e\n",
      "i\n",
      "a\n",
      "u\n",
      "e\n",
      "i\n",
      "i\n",
      "a\n",
      "o\n",
      "i\n",
      "o\n",
      "o\n",
      "i\n",
      "i\n",
      "o\n"
     ]
    }
   ],
   "source": [
    "story=input('type a short story:')\n",
    "count=0\n",
    "for character in story:\n",
    "    if character=='a' or character=='e' or character=='i' or character=='o' or character=='u':\n",
    "        print(character)\n",
    "        if character=='.':\n",
    "            break"
   ]
  },
  {
   "cell_type": "code",
   "execution_count": null,
   "id": "1ae82edb-b3af-454d-a836-030d7827ec5f",
   "metadata": {},
   "outputs": [],
   "source": [
    "global_language='english'\n"
   ]
  }
 ],
 "metadata": {
  "kernelspec": {
   "display_name": "Python 3 (ipykernel)",
   "language": "python",
   "name": "python3"
  },
  "language_info": {
   "codemirror_mode": {
    "name": "ipython",
    "version": 3
   },
   "file_extension": ".py",
   "mimetype": "text/x-python",
   "name": "python",
   "nbconvert_exporter": "python",
   "pygments_lexer": "ipython3",
   "version": "3.13.2"
  }
 },
 "nbformat": 4,
 "nbformat_minor": 5
}
