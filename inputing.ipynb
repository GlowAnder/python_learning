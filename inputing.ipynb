{
 "cells": [
  {
   "cell_type": "code",
   "execution_count": null,
   "id": "2d469cc2-9eb8-42d8-a4f8-4b5bc2f50d59",
   "metadata": {},
   "outputs": [],
   "source": [
    "weight=input('value')"
   ]
  },
  {
   "cell_type": "code",
   "execution_count": null,
   "id": "3796af5b-a94b-4ca0-a634-102539ad5cc6",
   "metadata": {},
   "outputs": [],
   "source": [
    "convertedweight=float(weight)"
   ]
  },
  {
   "cell_type": "code",
   "execution_count": null,
   "id": "cd46941c-0377-4d79-9e18-91cabbbbff53",
   "metadata": {},
   "outputs": [],
   "source": [
    "height=input('value')"
   ]
  },
  {
   "cell_type": "code",
   "execution_count": null,
   "id": "30b117b0-ed7c-46d7-87c3-d2675e58dfad",
   "metadata": {},
   "outputs": [],
   "source": [
    "height_in_float=float(height)"
   ]
  },
  {
   "cell_type": "code",
   "execution_count": null,
   "id": "b65d269c-f038-481e-af79-a34e2374a148",
   "metadata": {},
   "outputs": [],
   "source": [
    "BMI=convertedweight/height_in_float**2"
   ]
  },
  {
   "cell_type": "code",
   "execution_count": null,
   "id": "a178f007-36cf-4826-90da-5da78082493a",
   "metadata": {},
   "outputs": [],
   "source": []
  }
 ],
 "metadata": {
  "kernelspec": {
   "display_name": "Python 3 (ipykernel)",
   "language": "python",
   "name": "python3"
  },
  "language_info": {
   "codemirror_mode": {
    "name": "ipython",
    "version": 3
   },
   "file_extension": ".py",
   "mimetype": "text/x-python",
   "name": "python",
   "nbconvert_exporter": "python",
   "pygments_lexer": "ipython3",
   "version": "3.13.2"
  }
 },
 "nbformat": 4,
 "nbformat_minor": 5
}
