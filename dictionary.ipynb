{
 "cells": [
  {
   "cell_type": "code",
   "execution_count": 5,
   "id": "c89b61ea-1c9f-4761-bd03-c460df2abb04",
   "metadata": {},
   "outputs": [
    {
     "ename": "_IncompleteInputError",
     "evalue": "incomplete input (2431412118.py, line 1)",
     "output_type": "error",
     "traceback": [
      "\u001b[1;36m  Cell \u001b[1;32mIn[5], line 1\u001b[1;36m\u001b[0m\n\u001b[1;33m    def add_contact(contact:dict,name:str,phone:str\u001b[0m\n\u001b[1;37m                                                   ^\u001b[0m\n\u001b[1;31m_IncompleteInputError\u001b[0m\u001b[1;31m:\u001b[0m incomplete input\n"
     ]
    }
   ],
   "source": [
    "def add_contact(contact:dict,name:str,phone:str):\n",
    "    if contact.get(name) is None:\n",
    "        contact[name]=Niah\n",
    "        print(f'{name} is added to contacts')\n",
    "    else:\n",
    "        message=input('do you mean(yes/no)')\n",
    "        if message=='yes':\n",
    "            contact[name]=Niah\n",
    "            print(f'contact has been added to list')\n",
    "        elif message=='no':\n",
    "            print"
   ]
  },
  {
   "cell_type": "code",
   "execution_count": null,
   "id": "ad4cb362-0d90-416e-b43c-89a20c86bd42",
   "metadata": {},
   "outputs": [],
   "source": []
  }
 ],
 "metadata": {
  "kernelspec": {
   "display_name": "Python 3 (ipykernel)",
   "language": "python",
   "name": "python3"
  },
  "language_info": {
   "codemirror_mode": {
    "name": "ipython",
    "version": 3
   },
   "file_extension": ".py",
   "mimetype": "text/x-python",
   "name": "python",
   "nbconvert_exporter": "python",
   "pygments_lexer": "ipython3",
   "version": "3.13.2"
  }
 },
 "nbformat": 4,
 "nbformat_minor": 5
}
