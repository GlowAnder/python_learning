{
 "cells": [
  {
   "cell_type": "code",
   "execution_count": 12,
   "id": "759b0512-03af-43c7-9554-ef180abecc4d",
   "metadata": {},
   "outputs": [
    {
     "name": "stdin",
     "output_type": "stream",
     "text": [
      "write a text of any length but should atleast be brief:   am okay.\n"
     ]
    },
    {
     "name": "stdout",
     "output_type": "stream",
     "text": [
      "3\n"
     ]
    }
   ],
   "source": [
    "text=input('write a text of any length but should atleast be brief: ')\n",
    "count=0\n",
    "for t in text:\n",
    "    if t==' ' or t=='.' or t==',':        \n",
    "        count+=1\n",
    "    elif t==' ':\n",
    "        count==0\n",
    "        continue\n",
    "    with_words=True\n",
    "if with_words: \n",
    "    print(count)"
   ]
  }
 ],
 "metadata": {
  "kernelspec": {
   "display_name": "Python 3 (ipykernel)",
   "language": "python",
   "name": "python3"
  },
  "language_info": {
   "codemirror_mode": {
    "name": "ipython",
    "version": 3
   },
   "file_extension": ".py",
   "mimetype": "text/x-python",
   "name": "python",
   "nbconvert_exporter": "python",
   "pygments_lexer": "ipython3",
   "version": "3.13.2"
  }
 },
 "nbformat": 4,
 "nbformat_minor": 5
}
