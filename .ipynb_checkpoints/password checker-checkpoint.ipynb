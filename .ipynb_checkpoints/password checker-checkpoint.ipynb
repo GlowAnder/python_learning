{
 "cells": [
  {
   "cell_type": "code",
   "execution_count": 19,
   "id": "cb0022d0-bb05-42da-80f3-c7ee5b99f277",
   "metadata": {},
   "outputs": [
    {
     "name": "stdin",
     "output_type": "stream",
     "text": [
      "enter a password which should have atleast a number,symbol or letter Glown170\n"
     ]
    },
    {
     "name": "stdout",
     "output_type": "stream",
     "text": [
      "strong password\n"
     ]
    }
   ],
   "source": [
    "pin=input('enter a password which should have atleast a number,symbol or letter')\n",
    "has_uppercase=False\n",
    "has_lowercase=False\n",
    "has_digit=False \n",
    "pin_length=0\n",
    "for character in pin:\n",
    "    pin_length+=1\n",
    "    if'A'<=character<='Z':\n",
    "     has_uppercase=True\n",
    "    elif'a'<=character<='z':\n",
    "     has_lowercase=True\n",
    "    elif'0'<=character<='9':\n",
    "     has_digit=True\n",
    "if pin_length<8:\n",
    "    print('your password shold atleast have 8 characters')\n",
    "elif has_lowercase and has_uppercase and has_digit:\n",
    "    print('strong password')\n",
    "else:\n",
    "    print('weak pasword,your password shud atleast have 8 characters with atleast an upper or lowercase letter and a digit')"
   ]
  },
  {
   "cell_type": "code",
   "execution_count": 8,
   "id": "174036c3-37aa-410f-8e3c-431f789c0632",
   "metadata": {},
   "outputs": [
    {
     "name": "stdin",
     "output_type": "stream",
     "text": [
      "choose a any number 15\n"
     ]
    },
    {
     "name": "stdout",
     "output_type": "stream",
     "text": [
      "timer ended\n",
      "timer ended\n",
      "timer ended\n",
      "timer ended\n",
      "timer ended\n",
      "timer ended\n",
      "timer ended\n",
      "timer ended\n",
      "timer ended\n",
      "timer ended\n",
      "timer ended\n",
      "timer ended\n",
      "timer ended\n",
      "timer ended\n",
      "timer ended\n",
      "timer ended\n"
     ]
    },
    {
     "name": "stdin",
     "output_type": "stream",
     "text": [
      "type= stop to pause stop\n"
     ]
    },
    {
     "ename": "SyntaxError",
     "evalue": "'break' outside loop (4134842982.py, line 6)",
     "output_type": "error",
     "traceback": [
      "\u001b[1;36m  Cell \u001b[1;32mIn[8], line 6\u001b[1;36m\u001b[0m\n\u001b[1;33m    break\u001b[0m\n\u001b[1;37m    ^\u001b[0m\n\u001b[1;31mSyntaxError\u001b[0m\u001b[1;31m:\u001b[0m 'break' outside loop\n"
     ]
    }
   ],
   "source": [
    "number=int(input('choose a any number'))\n",
    "for g in range(16):\n",
    "    print('timer ended')\n",
    "breaking=input('type= stop to pause')\n",
    "if breaking=='stop':\n",
    " break\n",
    "elif counts==16:\n",
    "    print('timer ended')"
   ]
  }
 ],
 "metadata": {
  "kernelspec": {
   "display_name": "Python 3 (ipykernel)",
   "language": "python",
   "name": "python3"
  },
  "language_info": {
   "codemirror_mode": {
    "name": "ipython",
    "version": 3
   },
   "file_extension": ".py",
   "mimetype": "text/x-python",
   "name": "python",
   "nbconvert_exporter": "python",
   "pygments_lexer": "ipython3",
   "version": "3.13.2"
  }
 },
 "nbformat": 4,
 "nbformat_minor": 5
}
