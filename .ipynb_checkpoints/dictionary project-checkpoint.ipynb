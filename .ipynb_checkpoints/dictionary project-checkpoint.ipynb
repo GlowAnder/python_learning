{
 "cells": [
  {
   "cell_type": "code",
   "execution_count": 1,
   "id": "eca0747a-3f9a-4f4e-97a9-5bbf597480bf",
   "metadata": {},
   "outputs": [],
   "source": [
    "def update_cart(cart:dict,item_name:str,quantity:int)->dict:\n",
    "    if cart.get(item_name) is None:\n",
    "        cart[item_name]=quantity\n",
    "        print(f'{item_name} has been added to your list')\n",
    "    elif quantity==0:\n",
    "        cart.pop(item_name)\n",
    "        print(f'{item_name} has been removed from list')\n",
    "    else:\n",
    "        \n",
    "        cart[item_name]=quantity\n",
    "        print(f'the quantity of {item_name} has been increased')\n",
    "    return cart\n"
   ]
  },
  {
   "cell_type": "code",
   "execution_count": 2,
   "id": "75fb0140-b317-4c62-90f1-0d797468c20a",
   "metadata": {},
   "outputs": [],
   "source": [
    "cart={}"
   ]
  },
  {
   "cell_type": "code",
   "execution_count": 4,
   "id": "331f5002-9192-4c20-9520-91daa74eaea5",
   "metadata": {},
   "outputs": [
    {
     "name": "stdin",
     "output_type": "stream",
     "text": [
      "enter the name of the item you want to buy sugar\n",
      "enter the quantity of the items you want to buy 0\n"
     ]
    },
    {
     "name": "stdout",
     "output_type": "stream",
     "text": [
      "sugar has been removed from list\n"
     ]
    },
    {
     "data": {
      "text/plain": [
       "{}"
      ]
     },
     "execution_count": 4,
     "metadata": {},
     "output_type": "execute_result"
    }
   ],
   "source": [
    "\n",
    "item_name=input('enter the name of the item you want to buy')\n",
    "quantity=int(input('enter the quantity of the items you want to buy'))\n",
    "update_cart(cart,item_name,quantity)"
   ]
  },
  {
   "cell_type": "code",
   "execution_count": null,
   "id": "fb30b714-d29b-432b-961b-6388119bbb7a",
   "metadata": {},
   "outputs": [],
   "source": [
    "def notepad(note:dict,options:int)->dict:\n",
    "    if note.get(option) is None:\n",
    "        while True:\n",
    "            if option==1:\n",
    "                note[option]=note_tittle\n",
    "                print('select type note to add notes')\n",
    "            elif option==2:\n",
    "                for key,value in note.item():\n",
    "                    print(key,value)\n",
    "            elif option==3:\n",
    "                if note_rt\n",
    "        \n",
    "            "
   ]
  },
  {
   "cell_type": "code",
   "execution_count": 1,
   "id": "ab8b5ccd-2823-4cb4-b062-17ba0e3995bb",
   "metadata": {},
   "outputs": [],
   "source": [
    "def event_addition(event_schedule:dict,event_name:str):\n",
    "    if event_schedule.get(details) is None:\n",
    "        event_schedule[details]=event_name\n",
    "        print('the event is added')\n",
    "def viewing_of_events(event_schedule:dict):\n",
    "    for key,event in event_schedule.items():\n",
    "        print('{key}:{value}')\n",
    "def event_searching(event_schedule:dict,query:str):\n",
    "    if query in event_schedule:\n",
    "        print(f'your results for the event you searched are:{query}')\n",
    "    else:\n",
    "        print('the results of your search are not processed')\n",
    "def event_updating(event_schedule:dict,event_name:str):\n",
    "    if event_schedule.get:\n",
    "        event_schedule[details]=event_name\n",
    "        print('the event has been updated')\n",
    "    else:\n",
    "        print('not updated')\n",
    "def event_deleting(event_schedule:dict,query:str):\n",
    "    if query in event_schedule:\n",
    "        del event_schedule[query]\n",
    "        print('the event has been deleted from the schedule')\n",
    "    else:\n",
    "        print('no results found')"
   ]
  },
  {
   "cell_type": "code",
   "execution_count": 2,
   "id": "3cecd624-ba57-4122-8cfa-fb993be2c677",
   "metadata": {},
   "outputs": [],
   "source": [
    "event_schedule={}"
   ]
  },
  {
   "cell_type": "code",
   "execution_count": null,
   "id": "9bd3a05e-ee9b-4c2a-ac56-eb1271cf8260",
   "metadata": {},
   "outputs": [
    {
     "name": "stdin",
     "output_type": "stream",
     "text": [
      "1.new event 2.view all events 3.search for an event 4.update event details 5.delete an event 6.exit 1\n"
     ]
    }
   ],
   "source": [
    "while True:\n",
    "    option=int(input('1.new event 2.view all events 3.search for an event 4.update event details 5.delete an event 6.exit'))\n",
    "    if option==1:\n",
    "        event_name=input('the name of the event:')\n",
    "        date=input('suggest the date on which the event will hold')\n",
    "        time=input('indicate the time from which the event will commerce')\n",
    "        location=input('indicate the venue of the event')\n",
    "        print(event_addition(event_schedule,event_name))\n",
    "    elif option==2:\n",
    "        print(viewing_of_events(event_schedule))\n",
    "    elif option==3:\n",
    "        searching=input('type the event name of the event you want to search')\n",
    "        print(searching)\n",
    "    elif option==4:\n",
    "        deleting=input('enter the event name of the event you want to delete')\n",
    "        print(event_deleting(event_schedule,query))\n",
    "    elif option==5:\n",
    "        event_name=input('the name of the event:')\n",
    "        date=input('enter the postponed date of the event')\n",
    "        time=input('enter the new time the event will commerce')\n",
    "        location=input('enter the new venue')\n",
    "        print(event_updating(event_schedule,event_name))\n",
    "    elif option==6:\n",
    "        break"
   ]
  },
  {
   "cell_type": "code",
   "execution_count": 18,
   "id": "c1e8b8ba-e24b-4bf6-b4ea-65d090f678da",
   "metadata": {},
   "outputs": [],
   "source": [
    "expenses={'sweets':150.20,'biscuits':850.75}\n",
    "def calculate_total_expenses(expenses=dict):\n",
    "   total=0\n",
    "   for b in expenses.values():\n",
    "        total+=b\n",
    "   return total"
   ]
  },
  {
   "cell_type": "code",
   "execution_count": 19,
   "id": "51a8c8d4-d795-4acb-b077-5dd7aa56f817",
   "metadata": {},
   "outputs": [
    {
     "data": {
      "text/plain": [
       "1000.95"
      ]
     },
     "execution_count": 19,
     "metadata": {},
     "output_type": "execute_result"
    }
   ],
   "source": [
    "calculate_total_expenses(expenses)"
   ]
  },
  {
   "cell_type": "code",
   "execution_count": 19,
   "id": "fc90846f-3189-4e0e-84a2-e99b3200a454",
   "metadata": {},
   "outputs": [
    {
     "name": "stdin",
     "output_type": "stream",
     "text": [
      "enter pet name bruno\n",
      "enter pet type dog\n"
     ]
    },
    {
     "name": "stdout",
     "output_type": "stream",
     "text": [
      "pet has been added\n"
     ]
    }
   ],
   "source": [
    "pets={'dog':'sturn','cat':'pertch'}\n",
    "def adopt_pet(pets:dict,pet_name:str,pet_type:str):\n",
    "    pet_name=input('enter pet name')\n",
    "    if pet_name in pets.values():\n",
    "        print('the pet name already exists')\n",
    "    else:\n",
    "        pets[pet_name]=pet_type\n",
    "        pet_type=input('enter pet type') \n",
    "        print('pet has been added')\n",
    "adopt_pet(pets,pet_name,pet_type)"
   ]
  },
  {
   "cell_type": "code",
   "execution_count": null,
   "id": "963bec99-239e-4f68-bdb6-27f25a24b059",
   "metadata": {},
   "outputs": [],
   "source": [
    "playlists={'gospel':'zimandikwanila,thank you lord','secular':'mzanga,kutali'}\n",
    "def   "
   ]
  }
 ],
 "metadata": {
  "kernelspec": {
   "display_name": "Python 3 (ipykernel)",
   "language": "python",
   "name": "python3"
  },
  "language_info": {
   "codemirror_mode": {
    "name": "ipython",
    "version": 3
   },
   "file_extension": ".py",
   "mimetype": "text/x-python",
   "name": "python",
   "nbconvert_exporter": "python",
   "pygments_lexer": "ipython3",
   "version": "3.13.2"
  }
 },
 "nbformat": 4,
 "nbformat_minor": 5
}
