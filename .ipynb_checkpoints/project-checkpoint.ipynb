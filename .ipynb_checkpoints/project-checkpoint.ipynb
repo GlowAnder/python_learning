{
 "cells": [
  {
   "cell_type": "code",
   "execution_count": 5,
   "id": "a864679b-8c3f-42c0-af0d-26e12519aba6",
   "metadata": {},
   "outputs": [
    {
     "name": "stdin",
     "output_type": "stream",
     "text": [
      "enter your grade: 74.6\n"
     ]
    },
    {
     "name": "stdout",
     "output_type": "stream",
     "text": [
      "good\n"
     ]
    }
   ],
   "source": [
    ".Score=input('enter your grade:')\n",
    "score=float(Score)\n",
    "marks=int(score)\n",
    "if (marks>=80 and marks<100):\n",
    "    print('excellent')\n",
    "elif(marks<80 and marks>=75):\n",
    "    print('very good')\n",
    "elif(marks<75 and marks>=60):\n",
    "    print('good')\n",
    "elif(marks<60 and marks>=50):\n",
    "    print('avarage')\n",
    "elif(marks<50 and marks>0):\n",
    "    print('failed')\n",
    "else:\n",
    "    print('no remarks')\n"
   ]
  },
  {
   "cell_type": "code",
   "execution_count": 9,
   "id": "5e3cc630-ca13-4503-8a28-28c696858d15",
   "metadata": {},
   "outputs": [
    {
     "name": "stdin",
     "output_type": "stream",
     "text": [
      "enter your salary: 150000\n",
      "how long have you been working?: 8\n"
     ]
    },
    {
     "name": "stdout",
     "output_type": "stream",
     "text": [
      "12000.0\n"
     ]
    }
   ],
   "source": [
    "amount_received=float(input('enter your salary:'))\n",
    "salary=int(amount_received)\n",
    "years_of_service=float(input('how long have you been working?:'))\n",
    "duration=int(years_of_service)\n",
    "if(duration>10):\n",
    "    print(salary*10/100)\n",
    "elif(duration>=6 and duration<=10):\n",
    "    print(salary*8/100)\n",
    "elif(duration<6):\n",
    "    print(salary*5/100)\n",
    "else:\n",
    "    print(salary)"
   ]
  },
  {
   "cell_type": "code",
   "execution_count": 1,
   "id": "49f86e64-c8ee-471a-89c1-662a3e39eef9",
   "metadata": {},
   "outputs": [
    {
     "name": "stdin",
     "output_type": "stream",
     "text": [
      "enter length: 6\n",
      "enter length: 7\n",
      "enter length: 6\n"
     ]
    },
    {
     "name": "stdout",
     "output_type": "stream",
     "text": [
      "isosceles triangle\n"
     ]
    }
   ],
   "source": [
    "side_A=float(input('enter length:'))\n",
    "side1=int(side_A)\n",
    "side_B=float(input('enter length:'))\n",
    "side2=int(side_B)\n",
    "side_C=float(input('enter length:'))\n",
    "side3=int(side_C)\n",
    "if(side1==side3 or side1==side2 or side2==side3):\n",
    "    print('isosceles triangle')\n",
    "elif(side1==side2==side3):\n",
    "    print('equalateral triangle')\n",
    "elif(side1!=side2!=side3):\n",
    "    print('scalene triangle')\n",
    "else:\n",
    "    print('not a triangle')"
   ]
  },
  {
   "cell_type": "code",
   "execution_count": 1,
   "id": "c1f785a0-c9ff-4f6f-a27f-da8ea918efe4",
   "metadata": {},
   "outputs": [
    {
     "name": "stdin",
     "output_type": "stream",
     "text": [
      "enter age: 35\n",
      "what is your gender(F/M): f\n"
     ]
    },
    {
     "name": "stdout",
     "output_type": "stream",
     "text": [
      "850 kwacha daily\n"
     ]
    }
   ],
   "source": [
    "age=int(input('enter age:'))\n",
    "gender=input('what is your gender(F/M):')\n",
    "gender=gender.upper()\n",
    "if(age>=18 and age<30 and gender=='M'):\n",
    "    print('700 kwacha daily')\n",
    "elif(age>=18 and age<30 and gender=='F'):\n",
    "    print('750 kwacha daily')\n",
    "elif(age>=30 and age<40 and gender=='M'):\n",
    "    print('850 kwacha daily')\n",
    "else:\n",
    "    print('enter appropriate age')"
   ]
  },
  {
   "cell_type": "code",
   "execution_count": null,
   "id": "7dee871d-87ed-4b5b-906a-cfc4370ae643",
   "metadata": {},
   "outputs": [],
   "source": [
    "actualnumber=17\n",
    "while True:\n",
    "    guessednumber=int(input('guessed a number'))\n",
    "    if(actualnumber==guessednumber):\n",
    "        print('correct guess')\n",
    "    elif(guessednumber>actualnumber):\n",
    "        print('too high')\n",
    "    elif(guessednumber<actualnumber):\n",
    "        print('too low')\n",
    "    else:\n",
    "        print('try again')"
   ]
  },
  {
   "cell_type": "code",
   "execution_count": null,
   "id": "6a590d3f-b7ce-427a-bc2f-91b3d6848d57",
   "metadata": {},
   "outputs": [],
   "source": []
  }
 ],
 "metadata": {
  "kernelspec": {
   "display_name": "Python 3 (ipykernel)",
   "language": "python",
   "name": "python3"
  },
  "language_info": {
   "codemirror_mode": {
    "name": "ipython",
    "version": 3
   },
   "file_extension": ".py",
   "mimetype": "text/x-python",
   "name": "python",
   "nbconvert_exporter": "python",
   "pygments_lexer": "ipython3",
   "version": "3.13.2"
  }
 },
 "nbformat": 4,
 "nbformat_minor": 5
}
