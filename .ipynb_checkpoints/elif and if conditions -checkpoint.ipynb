{
 "cells": [
  {
   "cell_type": "code",
   "execution_count": 1,
   "id": "b7611952-9461-4902-90e5-f145455dfdae",
   "metadata": {},
   "outputs": [
    {
     "data": {
      "text/plain": [
       "4"
      ]
     },
     "execution_count": 1,
     "metadata": {},
     "output_type": "execute_result"
    }
   ],
   "source": [
    "2+2"
   ]
  },
  {
   "cell_type": "code",
   "execution_count": 2,
   "id": "e1735fad-c626-4bc3-8c37-b16867ef4f6e",
   "metadata": {},
   "outputs": [
    {
     "name": "stdin",
     "output_type": "stream",
     "text": [
      " 45\n"
     ]
    },
    {
     "data": {
      "text/plain": [
       "'45'"
      ]
     },
     "execution_count": 2,
     "metadata": {},
     "output_type": "execute_result"
    }
   ],
   "source": [
    "input('')"
   ]
  },
  {
   "cell_type": "code",
   "execution_count": null,
   "id": "a92645d9-606c-4aa4-b00b-05a131b1030d",
   "metadata": {},
   "outputs": [],
   "source": [
    "a=78"
   ]
  },
  {
   "cell_type": "code",
   "execution_count": 3,
   "id": "f96ae9bc-bd6a-4341-a4c1-457dfcaba7b5",
   "metadata": {},
   "outputs": [
    {
     "name": "stdin",
     "output_type": "stream",
     "text": [
      "digit: 100\n",
      "enter: one hundred\n"
     ]
    }
   ],
   "source": [
    "value=input('digit:')\n",
    "value2=input('enter:')"
   ]
  },
  {
   "cell_type": "code",
   "execution_count": 4,
   "id": "de2ca08c-f206-4c59-bb27-40c236b6ee04",
   "metadata": {},
   "outputs": [
    {
     "name": "stdin",
     "output_type": "stream",
     "text": [
      "enter x value: 5\n",
      "type y value: 7\n"
     ]
    }
   ],
   "source": [
    "x=input('enter x value:')\n",
    "y=input('type y value:')"
   ]
  },
  {
   "cell_type": "code",
   "execution_count": 5,
   "id": "c00983cd-d300-4db9-ab55-e412662592f2",
   "metadata": {},
   "outputs": [
    {
     "name": "stdin",
     "output_type": "stream",
     "text": [
      "True yes\n",
      "enter reading: 28\n"
     ]
    }
   ],
   "source": [
    "temperature=input(bool('is_ hot'))\n",
    "temperature=input('enter reading:')"
   ]
  },
  {
   "cell_type": "code",
   "execution_count": 6,
   "id": "b4b804d1-a243-4d6f-9404-5e6408f2ae96",
   "metadata": {},
   "outputs": [
    {
     "name": "stdin",
     "output_type": "stream",
     "text": [
      "enter value: 75.5\n"
     ]
    }
   ],
   "source": [
    "weight=input('enter value:')"
   ]
  },
  {
   "cell_type": "code",
   "execution_count": 7,
   "id": "a7c9efa7-5442-4202-b6bd-6c9706ac83a0",
   "metadata": {},
   "outputs": [
    {
     "name": "stdin",
     "output_type": "stream",
     "text": [
      "country name: CANADA\n"
     ]
    }
   ],
   "source": [
    "country=input('country name:')"
   ]
  },
  {
   "cell_type": "code",
   "execution_count": 11,
   "id": "f258332a-f65a-41b8-a572-26e23c649bce",
   "metadata": {},
   "outputs": [
    {
     "name": "stdin",
     "output_type": "stream",
     "text": [
      "your age 18\n"
     ]
    },
    {
     "name": "stdout",
     "output_type": "stream",
     "text": [
      "you can vote\n"
     ]
    }
   ],
   "source": [
    "age=int(input('your age'))\n",
    "if age>=18:\n",
    "    print('you can vote')"
   ]
  },
  {
   "cell_type": "code",
   "execution_count": 12,
   "id": "24e31d68-c787-4435-8f3f-688dead1412f",
   "metadata": {},
   "outputs": [
    {
     "name": "stdout",
     "output_type": "stream",
     "text": [
      "you can vote\n"
     ]
    }
   ],
   "source": [
    "age=18\n",
    "if age>=18:\n",
    "    print('you can vote')"
   ]
  },
  {
   "cell_type": "code",
   "execution_count": 13,
   "id": "0a867007-8929-4347-8a58-060ecbb0d607",
   "metadata": {},
   "outputs": [
    {
     "name": "stdout",
     "output_type": "stream",
     "text": [
      "sorry you cannot get in\n"
     ]
    }
   ],
   "source": [
    "gender='female'\n",
    "if gender=='male':\n",
    "    print('you are welcome')\n",
    "else:\n",
    "    print('sorry you cannot get in')"
   ]
  }
 ],
 "metadata": {
  "kernelspec": {
   "display_name": "Python 3 (ipykernel)",
   "language": "python",
   "name": "python3"
  },
  "language_info": {
   "codemirror_mode": {
    "name": "ipython",
    "version": 3
   },
   "file_extension": ".py",
   "mimetype": "text/x-python",
   "name": "python",
   "nbconvert_exporter": "python",
   "pygments_lexer": "ipython3",
   "version": "3.13.2"
  }
 },
 "nbformat": 4,
 "nbformat_minor": 5
}
