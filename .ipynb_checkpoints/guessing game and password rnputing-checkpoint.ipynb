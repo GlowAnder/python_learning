{
 "cells": [
  {
   "cell_type": "code",
   "execution_count": 1,
   "id": "d3a8b925-1e39-4d78-845d-25645d7386a5",
   "metadata": {},
   "outputs": [
    {
     "name": "stdin",
     "output_type": "stream",
     "text": [
      "enter username: Niah\n",
      "enter password: 0708\n"
     ]
    }
   ],
   "source": [
    "name=input('enter username:')\n",
    "cord=input('enter password:')"
   ]
  },
  {
   "cell_type": "code",
   "execution_count": 2,
   "id": "fa8b30ac-b53d-4e6d-87d1-54a07c477c25",
   "metadata": {},
   "outputs": [
    {
     "name": "stdin",
     "output_type": "stream",
     "text": [
      "what is your name: Riah\n",
      "what is your password: 0708\n"
     ]
    }
   ],
   "source": [
    "Name=input('what is your name:')\n",
    "pass_cord=input('what is your password:')"
   ]
  },
  {
   "cell_type": "code",
   "execution_count": 4,
   "id": "58ed20a7-15c6-47f1-9843-17e8342ab5c1",
   "metadata": {},
   "outputs": [
    {
     "name": "stdout",
     "output_type": "stream",
     "text": [
      "your info does not match with the one entered the first time\n"
     ]
    }
   ],
   "source": [
    "if (name==Name and cord==pass_cord):\n",
    "    print('you are welcome to our program')\n",
    "else:\n",
    "    print('your info does not match with the one entered the first time')\n"
   ]
  },
  {
   "cell_type": "code",
   "execution_count": 5,
   "id": "54094528-47f3-4188-b746-64357d87b47e",
   "metadata": {},
   "outputs": [
    {
     "name": "stdin",
     "output_type": "stream",
     "text": [
      "username: Brian\n",
      "pin niah\n"
     ]
    }
   ],
   "source": [
    "name=input('username:')\n",
    "cord=input('pin')"
   ]
  },
  {
   "cell_type": "code",
   "execution_count": 6,
   "id": "0dc931f2-0139-4fa2-ae28-e229b2e24ecf",
   "metadata": {},
   "outputs": [
    {
     "name": "stdin",
     "output_type": "stream",
     "text": [
      "enter name Brian\n",
      "cord niah\n"
     ]
    }
   ],
   "source": [
    "Name=input('enter name')\n",
    "pass_word=input('cord')"
   ]
  },
  {
   "cell_type": "code",
   "execution_count": null,
   "id": "79f07448-6e75-42a0-b6a2-981c3d9863e2",
   "metadata": {},
   "outputs": [],
   "source": [
    "if(name=Name or co"
   ]
  },
  {
   "cell_type": "code",
   "execution_count": 21,
   "id": "cc1b0b6d-e108-426a-b01d-f00d53325f26",
   "metadata": {},
   "outputs": [
    {
     "name": "stdin",
     "output_type": "stream",
     "text": [
      "guess a number 16\n"
     ]
    },
    {
     "name": "stdout",
     "output_type": "stream",
     "text": [
      "too low\n"
     ]
    },
    {
     "name": "stdin",
     "output_type": "stream",
     "text": [
      "guess a number 12\n"
     ]
    },
    {
     "name": "stdout",
     "output_type": "stream",
     "text": [
      "out of chances the correct number is 17\n",
      "too low\n"
     ]
    }
   ],
   "source": [
    "actualnumber=17\n",
    "chances=0\n",
    "while(chances<2):\n",
    "    chances=chances+1\n",
    "    guessednumber=int(input('guess a number'))\n",
    "    if chances==2:\n",
    "        print('out of chances the correct number is',actualnumber)\n",
    "    if(guessednumber==actualnumber):\n",
    "        print('correct guess')\n",
    "        break\n",
    "    elif(guessednumber>actualnumber):\n",
    "        print('too high')\n",
    "    elif(guessednumber<actualnumber):\n",
    "        print('too low')\n",
    "    else:\n",
    "        print('try guessing again') "
   ]
  },
  {
   "cell_type": "code",
   "execution_count": null,
   "id": "a2549850-788a-49de-b5ca-5cc65a1862b1",
   "metadata": {},
   "outputs": [],
   "source": []
  }
 ],
 "metadata": {
  "kernelspec": {
   "display_name": "Python 3 (ipykernel)",
   "language": "python",
   "name": "python3"
  },
  "language_info": {
   "codemirror_mode": {
    "name": "ipython",
    "version": 3
   },
   "file_extension": ".py",
   "mimetype": "text/x-python",
   "name": "python",
   "nbconvert_exporter": "python",
   "pygments_lexer": "ipython3",
   "version": "3.13.2"
  }
 },
 "nbformat": 4,
 "nbformat_minor": 5
}
