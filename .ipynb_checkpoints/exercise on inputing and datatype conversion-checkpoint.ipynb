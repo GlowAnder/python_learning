{
 "cells": [
  {
   "cell_type": "code",
   "execution_count": 4,
   "id": "027113e7-22cf-444a-bb9b-5bf8777c776f",
   "metadata": {},
   "outputs": [
    {
     "name": "stdin",
     "output_type": "stream",
     "text": [
      "value of weight 25\n",
      "height value 4\n"
     ]
    },
    {
     "name": "stdout",
     "output_type": "stream",
     "text": [
      "the BMI of the person is 1.5625 and he weighs 25.0 kg whereas his height is 4.0 m\n"
     ]
    }
   ],
   "source": [
    "weightconverted=float(input('value of weight'))\n",
    "height_in_float=float(input('height value'))\n",
    "BMI=weightconverted/height_in_float**2\n",
    "print('the BMI of the person is',BMI,'and he weighs',weightconverted,'kg whereas his height is',height_in_float,'m')"
   ]
  },
  {
   "cell_type": "code",
   "execution_count": 5,
   "id": "35c6b860-bd4b-49b1-83d3-a9032105d35d",
   "metadata": {},
   "outputs": [
    {
     "name": "stdin",
     "output_type": "stream",
     "text": [
      "amount 350\n",
      "value 500\n"
     ]
    },
    {
     "name": "stdout",
     "output_type": "stream",
     "text": [
      "the recipe servings have changed from 350 to 500 showing a factor adjustment of 150\n"
     ]
    }
   ],
   "source": [
    "originalservings=input('amount')\n",
    "truevalue=int(originalservings)\n",
    "newservings=input('value')\n",
    "newservingsinintegers=int(newservings)\n",
    "adjustmentfactor=newservingsinintegers-truevalue\n",
    "print('the recipe servings have changed from',truevalue,'to',newservingsinintegers,'showing a factor adjustment of',adjustmentfactor)"
   ]
  },
  {
   "cell_type": "code",
   "execution_count": 6,
   "id": "e85f6407-6fcf-4a34-a9ff-29701f12297d",
   "metadata": {},
   "outputs": [
    {
     "name": "stdin",
     "output_type": "stream",
     "text": [
      "is it your gender? yes\n"
     ]
    },
    {
     "name": "stdout",
     "output_type": "stream",
     "text": [
      "it is True that am female\n"
     ]
    }
   ],
   "source": [
    " my_gender=input('is it your gender?')\n",
    "girl=bool(my_gender)\n",
    "print('it is',girl,'that am female')"
   ]
  },
  {
   "cell_type": "code",
   "execution_count": 8,
   "id": "4dfec56d-2b09-4c47-beee-3c8c0b89ac66",
   "metadata": {},
   "outputs": [],
   "source": [
    "third_place=\"bronze\""
   ]
  },
  {
   "cell_type": "code",
   "execution_count": 9,
   "id": "453fee62-cb73-4330-b04f-3d6c0d92a5e5",
   "metadata": {},
   "outputs": [
    {
     "name": "stdout",
     "output_type": "stream",
     "text": [
      "one hundred!\n"
     ]
    }
   ],
   "source": [
    "value=100\n",
    "value='one hundred'\n",
    "print(value+'!')"
   ]
  },
  {
   "cell_type": "code",
   "execution_count": 10,
   "id": "04694ece-b621-45b3-83e1-0b0b23d4c57b",
   "metadata": {},
   "outputs": [
    {
     "data": {
      "text/plain": [
       "bool"
      ]
     },
     "execution_count": 10,
     "metadata": {},
     "output_type": "execute_result"
    }
   ],
   "source": [
    "temperature=28\n",
    "is_hot=temperature>30\n",
    "type(is_hot)"
   ]
  },
  {
   "cell_type": "raw",
   "id": "1ab4a960-43f8-49f7-8c2e-2ce12acc51d0",
   "metadata": {},
   "source": [
    "print(temperatu"
   ]
  }
 ],
 "metadata": {
  "kernelspec": {
   "display_name": "Python 3 (ipykernel)",
   "language": "python",
   "name": "python3"
  },
  "language_info": {
   "codemirror_mode": {
    "name": "ipython",
    "version": 3
   },
   "file_extension": ".py",
   "mimetype": "text/x-python",
   "name": "python",
   "nbconvert_exporter": "python",
   "pygments_lexer": "ipython3",
   "version": "3.13.2"
  }
 },
 "nbformat": 4,
 "nbformat_minor": 5
}
