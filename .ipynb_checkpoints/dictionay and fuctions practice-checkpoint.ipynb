{
 "cells": [
  {
   "cell_type": "code",
   "execution_count": 1,
   "id": "eca0747a-3f9a-4f4e-97a9-5bbf597480bf",
   "metadata": {},
   "outputs": [],
   "source": [
    "def update_cart(cart:dict,item_name:str,quantity:int)->dict:\n",
    "    if cart.get(item_name) is None:\n",
    "        cart[item_name]=quantity\n",
    "        print(f'{item_name} has been added to your list')\n",
    "    elif quantity==0:\n",
    "        cart.pop(item_name)\n",
    "        print(f'{item_name} has been removed from list')\n",
    "    else:\n",
    "        cart[item_name]=quantity\n",
    "        print(f'the quantity of {item_name} has been increased')\n",
    "    return cart\n"
   ]
  },
  {
   "cell_type": "code",
   "execution_count": 2,
   "id": "75fb0140-b317-4c62-90f1-0d797468c20a",
   "metadata": {},
   "outputs": [],
   "source": [
    "cart={}"
   ]
  },
  {
   "cell_type": "code",
   "execution_count": 4,
   "id": "331f5002-9192-4c20-9520-91daa74eaea5",
   "metadata": {},
   "outputs": [
    {
     "name": "stdin",
     "output_type": "stream",
     "text": [
      "enter the name of the item you want to buy sugar\n",
      "enter the quantity of the items you want to buy 0\n"
     ]
    },
    {
     "name": "stdout",
     "output_type": "stream",
     "text": [
      "sugar has been removed from list\n"
     ]
    },
    {
     "data": {
      "text/plain": [
       "{}"
      ]
     },
     "execution_count": 4,
     "metadata": {},
     "output_type": "execute_result"
    }
   ],
   "source": [
    "\n",
    "item_name=input('enter the name of the item you want to buy')\n",
    "quantity=int(input('enter the quantity of the items you want to buy'))\n",
    "update_cart(cart,item_name,quantity)"
   ]
  },
  {
   "cell_type": "code",
   "execution_count": null,
   "id": "fb30b714-d29b-432b-961b-6388119bbb7a",
   "metadata": {},
   "outputs": [],
   "source": []
  }
 ],
 "metadata": {
  "kernelspec": {
   "display_name": "Python 3 (ipykernel)",
   "language": "python",
   "name": "python3"
  },
  "language_info": {
   "codemirror_mode": {
    "name": "ipython",
    "version": 3
   },
   "file_extension": ".py",
   "mimetype": "text/x-python",
   "name": "python",
   "nbconvert_exporter": "python",
   "pygments_lexer": "ipython3",
   "version": "3.13.2"
  }
 },
 "nbformat": 4,
 "nbformat_minor": 5
}
