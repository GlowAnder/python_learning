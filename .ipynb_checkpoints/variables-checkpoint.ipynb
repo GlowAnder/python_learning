{
 "cells": [
  {
   "cell_type": "code",
   "execution_count": 1,
   "id": "11114dc6-5f84-45ae-872c-9c2a42f99ced",
   "metadata": {},
   "outputs": [
    {
     "name": "stdout",
     "output_type": "stream",
     "text": [
      "Final score: 95\n"
     ]
    }
   ],
   "source": [
    "score=95\n",
    "print(\"Final score:\",score)"
   ]
  },
  {
   "cell_type": "code",
   "execution_count": 2,
   "id": "6de03375-4c5c-44c7-9060-b39e28e527ea",
   "metadata": {},
   "outputs": [
    {
     "name": "stdin",
     "output_type": "stream",
     "text": [
      "enter: 95\n"
     ]
    },
    {
     "name": "stdout",
     "output_type": "stream",
     "text": [
      "Final score:95\n"
     ]
    }
   ],
   "source": [
    "score=str(input('enter:'))\n",
    "print('Final score:'+score)"
   ]
  },
  {
   "cell_type": "code",
   "execution_count": 4,
   "id": "765b68e4-d8e7-4990-99bb-d259546bf7d1",
   "metadata": {},
   "outputs": [
    {
     "data": {
      "text/plain": [
       "float"
      ]
     },
     "execution_count": 4,
     "metadata": {},
     "output_type": "execute_result"
    }
   ],
   "source": [
    "result=32.5\n",
    "type(result)"
   ]
  },
  {
   "cell_type": "code",
   "execution_count": 5,
   "id": "691e40eb-01a8-40e6-b035-c5a2d9a3efe6",
   "metadata": {},
   "outputs": [
    {
     "ename": "SyntaxError",
     "evalue": "invalid syntax (143361491.py, line 2)",
     "output_type": "error",
     "traceback": [
      "\u001b[1;36m  Cell \u001b[1;32mIn[5], line 2\u001b[1;36m\u001b[0m\n\u001b[1;33m    total=price 3\u001b[0m\n\u001b[1;37m                ^\u001b[0m\n\u001b[1;31mSyntaxError\u001b[0m\u001b[1;31m:\u001b[0m invalid syntax\n"
     ]
    }
   ],
   "source": [
    "price='19'\n",
    "total=price 3"
   ]
  },
  {
   "cell_type": "code",
   "execution_count": 7,
   "id": "5aa7b696-603e-4166-a57d-5f3caadc4b98",
   "metadata": {},
   "outputs": [
    {
     "name": "stdout",
     "output_type": "stream",
     "text": [
      "True\n"
     ]
    }
   ],
   "source": [
    "print(7<=7 and \"7\"!=7)"
   ]
  },
  {
   "cell_type": "code",
   "execution_count": null,
   "id": "e0724f15-bb3b-49cb-ae17-f51d5940b70e",
   "metadata": {},
   "outputs": [],
   "source": [
    "height=int"
   ]
  }
 ],
 "metadata": {
  "kernelspec": {
   "display_name": "Python 3 (ipykernel)",
   "language": "python",
   "name": "python3"
  },
  "language_info": {
   "codemirror_mode": {
    "name": "ipython",
    "version": 3
   },
   "file_extension": ".py",
   "mimetype": "text/x-python",
   "name": "python",
   "nbconvert_exporter": "python",
   "pygments_lexer": "ipython3",
   "version": "3.13.2"
  }
 },
 "nbformat": 4,
 "nbformat_minor": 5
}
