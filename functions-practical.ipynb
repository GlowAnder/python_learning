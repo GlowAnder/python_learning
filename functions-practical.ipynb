{
 "cells": [
  {
   "cell_type": "code",
   "execution_count": 3,
   "id": "fe1639a6-e0cc-433b-9666-264119afedc6",
   "metadata": {},
   "outputs": [
    {
     "data": {
      "text/plain": [
       "'helloworld'"
      ]
     },
     "execution_count": 3,
     "metadata": {},
     "output_type": "execute_result"
    }
   ],
   "source": [
    "def greet():\n",
    "    greeting='hello'\n",
    "    destination='world'\n",
    "    result=greeting + destination\n",
    "    return result\n",
    "greet()"
   ]
  },
  {
   "cell_type": "code",
   "execution_count": 5,
   "id": "b7d12404-173f-4587-a646-f0aab836a79a",
   "metadata": {},
   "outputs": [
    {
     "name": "stdin",
     "output_type": "stream",
     "text": [
      "give the temperature reading of the day 12\n"
     ]
    },
    {
     "data": {
      "text/plain": [
       "'it is chilly outside.wear a jacket.'"
      ]
     },
     "execution_count": 5,
     "metadata": {},
     "output_type": "execute_result"
    }
   ],
   "source": [
    "temperature=float(input('give the temperature reading of the day'))\n",
    "def check_weather(temp):\n",
    "    if temp<0:\n",
    "        return 'it is freezing! stay warm'\n",
    "    elif temp>0 and temp<15:\n",
    "        return 'it is chilly outside.wear a jacket.'\n",
    "    elif temp>16 and temp<25:\n",
    "        return 'perfect weather for a walk!'\n",
    "    elif temp>25:\n",
    "        return 'it is hot! stay hydrated.'\n",
    "check_weather(temperature)  "
   ]
  },
  {
   "cell_type": "code",
   "execution_count": 3,
   "id": "1ad0f37f-275f-498f-b293-9f18aa119b79",
   "metadata": {},
   "outputs": [
    {
     "name": "stdin",
     "output_type": "stream",
     "text": [
      "enter your age 68\n"
     ]
    },
    {
     "data": {
      "text/plain": [
       "'your discount is3500.0'"
      ]
     },
     "execution_count": 3,
     "metadata": {},
     "output_type": "execute_result"
    }
   ],
   "source": [
    "age=int(input('enter your age'))\n",
    "def book_movie_ticket(Age):\n",
    "    ticketprice=5000\n",
    "    if Age<12:\n",
    "        return f'your discount is{ticketprice-ticketprice/100*50}'\n",
    "    elif Age>12 and Age<60:\n",
    "        return ticketprice\n",
    "    elif Age>60:\n",
    "        return f'your discount is{ticketprice-ticketprice/100*30}'\n",
    "book_movie_ticket(age)"
   ]
  },
  {
   "cell_type": "code",
   "execution_count": 19,
   "id": "efc5b93c-664b-45c0-863c-855a601723ca",
   "metadata": {},
   "outputs": [
    {
     "name": "stdin",
     "output_type": "stream",
     "text": [
      "enter the number of water glasses you drank 9\n"
     ]
    },
    {
     "data": {
      "text/plain": [
       "'you are doing a great job keep being hydrated'"
      ]
     },
     "execution_count": 19,
     "metadata": {},
     "output_type": "execute_result"
    }
   ],
   "source": [
    "def track_water_intake():\n",
    "    glasses=int(input('enter the number of water glasses you drank'))\n",
    "    wateramountinmL=glasses*250\n",
    "    if glasses>8:\n",
    "         return 'you are doing a great job keep being hydrated'\n",
    "    else:\n",
    "         return 'you are putting your life at risk,stay hydrated please!'\n",
    "track_water_intake()"
   ]
  },
  {
   "cell_type": "code",
   "execution_count": 22,
   "id": "ade4320f-7c81-4123-9c48-10f19ea2a9be",
   "metadata": {},
   "outputs": [
    {
     "name": "stdin",
     "output_type": "stream",
     "text": [
      "enter the tip 25\n",
      "give the number of people to split the bill 8\n",
      "enter the total bill 7500\n"
     ]
    },
    {
     "data": {
      "text/plain": [
       "'the total bill when not split is 7500.0 and when split each person will pay1171.875 ,the tip amount of the bill is1875.0'"
      ]
     },
     "execution_count": 22,
     "metadata": {},
     "output_type": "execute_result"
    }
   ],
   "source": [
    "tip_percentage=float(input('enter the tip'))\n",
    "split=int(input('give the number of people to split the bill'))\n",
    "totalbill=float(input('enter the total bill'))\n",
    "def calculate_tip(totalbill:float,tip_percentage:float,split:int):\n",
    "   \n",
    "    tipamount=tip_percentage*totalbill/100\n",
    "    totalamount=tipamount+totalbill\n",
    "    splitamountperperson=totalamount/split\n",
    "    return f'the total bill when not split is {totalbill} and when split each person will pay{splitamountperperson} ,the tip amount of the bill is{tipamount}'\n",
    "calculate_tip(totalbill,tip_percentage,split)"
   ]
  },
  {
   "cell_type": "code",
   "execution_count": null,
   "id": "96a9156a-8136-40a5-9ad4-30b8d6a8a728",
   "metadata": {},
   "outputs": [],
   "source": []
  }
 ],
 "metadata": {
  "kernelspec": {
   "display_name": "Python 3 (ipykernel)",
   "language": "python",
   "name": "python3"
  },
  "language_info": {
   "codemirror_mode": {
    "name": "ipython",
    "version": 3
   },
   "file_extension": ".py",
   "mimetype": "text/x-python",
   "name": "python",
   "nbconvert_exporter": "python",
   "pygments_lexer": "ipython3",
   "version": "3.13.2"
  }
 },
 "nbformat": 4,
 "nbformat_minor": 5
}
